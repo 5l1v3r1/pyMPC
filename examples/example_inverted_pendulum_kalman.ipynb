{
 "cells": [
  {
   "cell_type": "code",
   "execution_count": 1,
   "metadata": {},
   "outputs": [],
   "source": [
    "# General import\n",
    "import numpy as np\n",
    "import scipy.sparse as sparse\n",
    "from scipy.integrate import ode\n",
    "import time\n",
    "import matplotlib.pyplot as plt"
   ]
  },
  {
   "cell_type": "code",
   "execution_count": 2,
   "metadata": {},
   "outputs": [],
   "source": [
    "# pyMPC and kalman import\n",
    "from pyMPC.mpc import MPCController\n",
    "from pyMPC.kalman import kalman_design_simple, LinearStateEstimator"
   ]
  },
  {
   "cell_type": "markdown",
   "metadata": {},
   "source": [
    "## System dynamics ##\n",
    "\n",
    "The system to be controlled is an inverted pendulum on a cart (see next Figure).  \n",
    "\n",
    "<img src=\"img/cart_pole.png\" width=\"250\" align=\"center\"/>\n",
    "\n",
    "The system is governed by the following differential equations:\n",
    "\n",
    "\\begin{equation}\n",
    " \\begin{aligned}\n",
    " (M+m)\\ddot p + ml\\ddot\\phi \\cos\\phi - ml \\dot \\phi ^2 \\sin \\phi + b\\dot p &= F \\\\\n",
    " l \\ddot \\phi + \\ddot p \\cos \\phi - g \\sin\\phi &= -f_\\phi\\dot \\phi\n",
    "\\end{aligned}\n",
    "\\end{equation}\n",
    "\n",
    "Introducing the state vector $x=[p\\; \\dot p\\; \\phi\\; \\dot \\phi]$ and the input $u=F$, the system dynamics are described in state-space by a set of an nonlinear ordinary differential equations: $\\dot x = f(x,u)$ with\n",
    "\n",
    "\\begin{equation}\n",
    "\\begin{split}\n",
    "  f(x,u) &= \n",
    " \\begin{bmatrix}\n",
    " x_2\\\\\n",
    " \\frac{-mg \\sin x_3\\cos x_3 + mlx_4^3\\sin x_3 + f_\\phi m x_4 \\cos x_3 - bx_2 + u }{M+(1-\\cos^2 x_3)m}\\\\\n",
    " x_3\\\\\n",
    " \\frac{(M+m)(g \\sin x_3 - f_\\phi x_4) - (lm x_4^2 \\sin x_3 - bx_2 + u)\\cos x_3}{l(M+(1-\\cos^2 x_3)m)}\n",
    " \\end{bmatrix}\\\\ \n",
    " \\end{split}\n",
    " \\end{equation}\n",
    "\n",
    "For MPC control design, the system is linearized about the upright (unstable) equilibrium point, i.e., about the point $x_{eq} = [0, \\; 0\\;, 0,\\; 0]^\\top$.\n",
    "The linearized system has form $\\dot  x =  A_c x + B_c u$ with\n",
    "\n",
    "\\begin{equation}\n",
    "  A = \n",
    " \\begin{bmatrix}\n",
    " 0& 1& 0& 0\\\\\n",
    " 0& -\\frac{b}{M}& -g\\frac{m}{M}& f_\\theta\\frac{m}{M}\\\\\n",
    " 0&0&0&1\\\\\n",
    " 0&\\frac{b}{Ml}& \\frac{g(M+m)}{Ml}&-\\frac{(M+m)f_\\theta}{M l}\n",
    " \\end{bmatrix},\\qquad B= \n",
    " \\begin{bmatrix}\n",
    " 0\\\\\n",
    " \\frac{1}{M}\\\\\n",
    " 0\\\\\n",
    " -\\frac{1}{Ml}&\n",
    " \\end{bmatrix}\n",
    " \\end{equation}\n",
    " \n",
    "Next, the system is discretized with sampling time $T_s = 10\\;\\text{ms}$. Here we just use a Forward Euler dsicretization scheme for the sake of simplicity."
   ]
  },
  {
   "cell_type": "code",
   "execution_count": 3,
   "metadata": {},
   "outputs": [],
   "source": [
    "# Constants #\n",
    "\n",
    "M = 0.5\n",
    "m = 0.2\n",
    "b = 0.1\n",
    "ftheta = 0.1\n",
    "l = 0.3\n",
    "g = 9.81\n",
    "\n",
    "Ts = 10e-3"
   ]
  },
  {
   "cell_type": "code",
   "execution_count": 4,
   "metadata": {},
   "outputs": [],
   "source": [
    "# System dynamics: \\dot x = f_ODE(t,x,u)\n",
    "\n",
    "def f_ODE(t,x,u):\n",
    "    F = u\n",
    "    v = x[1]\n",
    "    theta = x[2]\n",
    "    omega = x[3]\n",
    "    der = np.zeros(4)\n",
    "    der[0] = v\n",
    "    der[1] = (m * l * np.sin(theta) * omega ** 2 - m * g * np.sin(theta) * np.cos(theta) + m * ftheta * np.cos(theta) * omega + F - b * v) / (M + m * (1 - np.cos(theta) ** 2))\n",
    "    der[2] = omega\n",
    "    der[3] = ((M + m) * (g * np.sin(theta) - ftheta * omega) - m * l * omega ** 2 * np.sin(theta) * np.cos(theta) - (F - b * v) * np.cos(theta)) / (l * (M + m * (1 - np.cos(theta) ** 2)))\n",
    "    return der"
   ]
  },
  {
   "cell_type": "code",
   "execution_count": 5,
   "metadata": {},
   "outputs": [],
   "source": [
    "# Linearized System Matrices \n",
    "\n",
    "Ac =np.array([[0, 1, 0, 0],\n",
    "               [0, -b / M, -(g * m) / M, (ftheta * m) / M],\n",
    "               [0, 0, 0, 1],\n",
    "               [0, b / (M * l), (M * g + g * m) / (M * l), -(M * ftheta + ftheta * m) / (M * l)]])\n",
    "\n",
    "Bc = np.array([\n",
    "    [0.0],\n",
    "    [1.0 / M],\n",
    "    [0.0],\n",
    "    [-1 / (M * l)]\n",
    "])\n",
    "\n",
    "Cc = np.array([[1., 0., 0., 0.],\n",
    "               [0., 0., 1., 0.]])\n",
    "\n",
    "Dc = np.zeros((2, 1))\n",
    "\n",
    "[nx, nu] = Bc.shape  # number of states and number or inputs\n",
    "ny = np.shape(Cc)[0]"
   ]
  },
  {
   "cell_type": "code",
   "execution_count": 6,
   "metadata": {},
   "outputs": [],
   "source": [
    "# Simple forward euler discretization\n",
    "\n",
    "Ad = np.eye(nx) + Ac * Ts\n",
    "Bd = Bc * Ts\n",
    "Cd = Cc\n",
    "Dd = Dc"
   ]
  },
  {
   "cell_type": "code",
   "execution_count": 7,
   "metadata": {},
   "outputs": [],
   "source": [
    "# Standard deviation of the measurement noise on position and angle\n",
    "\n",
    "std_npos = 0.005\n",
    "std_nphi = 0.005"
   ]
  },
  {
   "cell_type": "code",
   "execution_count": 8,
   "metadata": {},
   "outputs": [],
   "source": [
    "# Reference input and states\n",
    "xref = np.array([0.3, 0.0, 0.0, 0.0])  # reference state\n",
    "uref = np.array([0.0])  # reference input\n",
    "uminus1 = np.array([0.0])  # input at time step negative one - used to penalize the first delta u at time instant 0. Could be the same as uref."
   ]
  },
  {
   "cell_type": "code",
   "execution_count": 9,
   "metadata": {},
   "outputs": [],
   "source": [
    "# Constraints\n",
    "xmin = np.array([-10.0, -10.0, -100, -100])\n",
    "xmax = np.array([10.0, 10.0, 100, 100])\n",
    "\n",
    "umin = np.array([-20])\n",
    "umax = np.array([20])\n",
    "\n",
    "Dumin = np.array([-5])\n",
    "Dumax = np.array([5])"
   ]
  },
  {
   "cell_type": "code",
   "execution_count": 10,
   "metadata": {},
   "outputs": [],
   "source": [
    "# Objective function weights\n",
    "Qx = sparse.diags([1.0, 0, 5.0, 0])  # Quadratic cost for states x0, x1, ..., x_N-1\n",
    "QxN = sparse.diags([1.0, 0, 5.0, 0])  # Quadratic cost for xN\n",
    "Qu = 0.0 * sparse.eye(1)  # Quadratic cost for u0, u1, ...., u_N-1\n",
    "QDu = 0.1 * sparse.eye(1)  # Quadratic cost for Du0, Du1, ...., Du_N-1"
   ]
  },
  {
   "cell_type": "code",
   "execution_count": 11,
   "metadata": {},
   "outputs": [],
   "source": [
    "# Initialize simulation system\n",
    "\n",
    "phi0 = 15*2*np.pi/360\n",
    "x0 = np.array([0, 0, phi0, 0]) # initial state\n",
    "t0 = 0\n",
    "system_dyn = ode(f_ODE).set_integrator('vode', method='bdf')\n",
    "system_dyn.set_initial_value(x0, t0)\n",
    "_ = system_dyn.set_f_params(0.0)"
   ]
  },
  {
   "cell_type": "code",
   "execution_count": 12,
   "metadata": {},
   "outputs": [],
   "source": [
    "# Prediction horizon\n",
    "Np = 150\n",
    "Nc = 75"
   ]
  },
  {
   "cell_type": "code",
   "execution_count": 13,
   "metadata": {},
   "outputs": [],
   "source": [
    "# Instantiate and initialize MPC controller\n",
    "K = MPCController(Ad, Bd, Np=Np, Nc=Nc, x0=x0, xref=xref, uminus1=uminus1,\n",
    "                  Qx=Qx, QxN=QxN, Qu=Qu, QDu=QDu,\n",
    "                  xmin=xmin, xmax=xmax, umin=umin, umax=umax, Dumin=Dumin, Dumax=Dumax)\n",
    "K.setup()"
   ]
  },
  {
   "cell_type": "code",
   "execution_count": 14,
   "metadata": {},
   "outputs": [],
   "source": [
    "# Basic Kalman filter design\n",
    "Q_kal = np.diag([0.1, 10, 0.1, 10])\n",
    "R_kal = np.eye(ny)\n",
    "L,P,W  = kalman_design_simple(Ad, Bd, Cd, Dd, Q_kal, R_kal, type='filter')\n",
    "x0_est = x0\n",
    "KF = LinearStateEstimator(x0_est, Ad, Bd, Cd, Dd,L)"
   ]
  },
  {
   "cell_type": "code",
   "execution_count": 15,
   "metadata": {},
   "outputs": [],
   "source": [
    "# Simulate in closed loop\n",
    "[nx, nu] = Bd.shape  # number of states and number or inputs\n",
    "len_sim = 10  # simulation length (s)\n",
    "nsim = int(len_sim / Ts)  # simulation length(timesteps)\n",
    "x_vec = np.zeros((nsim, nx))\n",
    "y_vec = np.zeros((nsim, ny))\n",
    "y_meas_vec = np.zeros((nsim, ny))\n",
    "y_est_vec = np.zeros((nsim, ny))\n",
    "x_est_vec = np.zeros((nsim, nx))\n",
    "x_ref_vec = np.zeros((nsim, nx))\n",
    "u_vec = np.zeros((nsim, nu))\n",
    "t_MPC_CPU = np.zeros((nsim,1))\n",
    "t_vec = np.arange(0, nsim) * Ts\n",
    "\n",
    "time_start = time.time()\n",
    "\n",
    "x_step = x0\n",
    "x_step_est = x0\n",
    "t_step = t0\n",
    "\n",
    "uMPC = uminus1\n",
    "for i in range(nsim):\n",
    "    # Output for step i\n",
    "    # System\n",
    "    y_step = Cd.dot(system_dyn.y)  # y[i] from the system\n",
    "    ymeas_step = y_step\n",
    "    ymeas_step[0] += std_npos * np.random.randn()\n",
    "    ymeas_step[1] += std_nphi * np.random.randn()\n",
    "    # Estimator\n",
    "    # MPC\n",
    "    uMPC = K.output()  # u[i] = k(\\hat x[i]) possibly computed at time instant -1\n",
    "\n",
    "    # Save output for step i\n",
    "    y_vec[i, :] = y_step  # y[i]\n",
    "    y_meas_vec[i, :] = ymeas_step  # y_meas[i]\n",
    "    x_vec[i, :] = system_dyn.y  # x[i]\n",
    "    y_est_vec[i, :] = KF.y  # \\hat y[i|i-1]\n",
    "    x_est_vec[i, :] = KF.x  # \\hat x[i|i-1]\n",
    "    x_ref_vec[i, :] = xref #xref_fun(t_step)\n",
    "    u_vec[i, :] = uMPC  # u[i]\n",
    "\n",
    "    # Update to i+1\n",
    "    # System\n",
    "    system_dyn.set_f_params(uMPC)  # set current input value to uMPC\n",
    "    system_dyn.integrate(system_dyn.t + Ts)  # integrate system dynamics for a time step\n",
    "\n",
    "    # Kalman filter: update and predict\n",
    "    KF.update(ymeas_step)  # \\hat x[i|i]\n",
    "    KF.predict(uMPC)  # \\hat x[i+1|i]\n",
    "\n",
    "    # MPC update for step i+1\n",
    "    time_MPC_start = time.time()\n",
    "    K.update(KF.x, uMPC)  # update with measurement (and possibly pre-compute u[i+1])\n",
    "    t_MPC_CPU[i] = time.time() - time_MPC_start\n",
    "\n",
    "    # Time update\n",
    "    t_step += Ts\n",
    "\n",
    "time_sim = time.time() - time_start"
   ]
  },
  {
   "cell_type": "code",
   "execution_count": 16,
   "metadata": {},
   "outputs": [
    {
     "data": {
      "image/png": "[encoded data removed]",
      "text/plain": [
       "<Figure size 720x720 with 3 Axes>"
      ]
     },
     "metadata": {
      "needs_background": "light"
     },
     "output_type": "display_data"
    }
   ],
   "source": [
    "# Plot results\n",
    "\n",
    "fig, axes = plt.subplots(3, 1, figsize=(10, 10), sharex=True)\n",
    "axes[0].plot(t_vec, x_est_vec[:, 0], \"b\", label=\"p_est\")\n",
    "axes[0].plot(t_vec, x_vec[:, 0], \"k\", label='p')\n",
    "axes[0].plot(t_vec, x_ref_vec[:,0], \"r--\", linewidth=4, label=\"p_ref\")\n",
    "axes[0].set_ylabel(\"Position (m)\")\n",
    "\n",
    "axes[1].plot(t_vec, x_est_vec[:, 2] * 360 / 2 / np.pi, \"b\", label=\"phi_est\")\n",
    "axes[1].plot(t_vec, x_vec[:, 2] * 360 / 2 / np.pi, label=\"phi\")\n",
    "axes[1].plot(t_vec,  x_ref_vec[:,2] * 360 / 2 / np.pi, \"r--\", linewidth=4, label=\"phi_ref\")\n",
    "axes[1].set_ylabel(\"Angle (deg)\")\n",
    "\n",
    "axes[2].plot(t_vec, u_vec[:, 0], label=\"u\")\n",
    "axes[2].plot(t_vec, uref * np.ones(np.shape(t_vec)), \"r--\", linewidth=4, label=\"u_ref\")\n",
    "axes[2].set_ylabel(\"Force (N)\")\n",
    "\n",
    "for ax in axes:\n",
    "    ax.grid(True)\n",
    "    ax.legend()\n"
   ]
  },
  {
   "cell_type": "code",
   "execution_count": 17,
   "metadata": {},
   "outputs": [
    {
     "data": {
      "image/png": "[encoded data removed]",
      "text/plain": [
       "<Figure size 360x360 with 1 Axes>"
      ]
     },
     "metadata": {
      "needs_background": "light"
     },
     "output_type": "display_data"
    }
   ],
   "source": [
    "# Histogram of the MPC CPU time\n",
    "\n",
    "fig,ax = plt.subplots(1,1, figsize=(5,5))\n",
    "ax.hist(t_MPC_CPU*1000, bins=100)\n",
    "ax.grid(True)\n",
    "_ = ax.set_xlabel('MPC computation CPU time (ms)')"
   ]
  }
 ],
 "metadata": {
  "kernelspec": {
   "display_name": "Python 3",
   "language": "python",
   "name": "python3"
  },
  "language_info": {
   "codemirror_mode": {
    "name": "ipython",
    "version": 3
   },
   "file_extension": ".py",
   "mimetype": "text/x-python",
   "name": "python",
   "nbconvert_exporter": "python",
   "pygments_lexer": "ipython3",
   "version": "3.7.3"
  },
  "pycharm": {
   "stem_cell": {
    "cell_type": "raw",
    "metadata": {
     "collapsed": false
    },
    "source": []
   }
  }
 },
 "nbformat": 4,
 "nbformat_minor": 2
}
