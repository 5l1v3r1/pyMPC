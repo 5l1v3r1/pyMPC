{
 "cells": [
  {
   "cell_type": "code",
   "execution_count": 1,
   "metadata": {},
   "outputs": [],
   "source": [
    "# General import \n",
    "\n",
    "import numpy as np\n",
    "import scipy.sparse as sparse\n",
    "import time\n",
    "import matplotlib.pyplot as plt"
   ]
  },
  {
   "cell_type": "code",
   "execution_count": 2,
   "metadata": {},
   "outputs": [],
   "source": [
    "# pyMPC import\n",
    "\n",
    "from pyMPC.mpc import MPCController"
   ]
  },
  {
   "cell_type": "markdown",
   "metadata": {},
   "source": [
    "## System dynamics ##\n",
    "\n",
    "The system to be controlled is an inverted pendulum on a cart (see next Figure).  \n",
    "\n",
    "<img src=\"img/cart_pole.png\" width=\"300\" height=\"300\" align=\"center\"/>\n",
    "\n",
    "The system is governed by the following differential equations:\n",
    "\n",
    "\\begin{equation}\n",
    " \\begin{aligned}\n",
    " (M+m)\\ddot p + ml\\ddot\\phi \\cos\\phi - ml \\dot \\phi ^2 \\sin \\phi + b\\dot p &= F \\\\\n",
    " l \\ddot \\phi + \\ddot p \\cos \\phi - g \\sin\\phi &= -f_\\phi\\dot \\phi\n",
    "\\end{aligned}\n",
    "\\end{equation}\n",
    "\n",
    "Introducing the state vector $x=[p\\; \\dot p\\; \\phi\\; \\dot \\phi]$ and the input $u=F$, the system dynamics are described in state-space by a set of an nonlinear ordinary differential equations: $\\dot x = f(x,u)$ with\n",
    "\n",
    "\\begin{equation}\n",
    "\\begin{split}\n",
    "  f(x,u) &= \n",
    " \\begin{bmatrix}\n",
    " x_2\\\\\n",
    " \\frac{-mg \\sin x_3\\cos x_3 + mlx_4^3\\sin x_3 + f_\\phi m x_4 \\cos x_3 - bx_2 + u }{M+(1-\\cos^2 x_3)m}\\\\\n",
    " x_3\\\\\n",
    " \\frac{(M+m)(g \\sin x_3 - f_\\phi x_4) - (lm x_4^2 \\sin x_3 - bx_2 + u)\\cos x_3}{l(M+(1-\\cos^2 x_3)m)}\n",
    " \\end{bmatrix}\\\\ \n",
    " \\end{split}\n",
    " \\end{equation}\n",
    "\n",
    "For MPC control design, the system is linearized about the upright (unstable) equilibrium point, i.e., about the point $x_{eq} = [0, \\; 0\\;, 0,\\; 0]^\\top$.\n",
    "The linearized system has form $\\dot  x =  A_c x + B_c u$ with\n",
    "\\begin{equation}\n",
    "  A = \n",
    " \\begin{bmatrix}\n",
    " 0& 1& 0& 0\\\\\n",
    " 0& -\\frac{b}{M}& -g\\frac{m}{M}& f_\\theta\\frac{m}{M}\\\\\n",
    " 0&0&0&1\\\\\n",
    " 0&\\frac{b}{Ml}& \\frac{g(M+m)}{Ml}&-\\frac{(M+m)f_\\theta}{M l}\n",
    " \\end{bmatrix},\\qquad B= \n",
    " \\begin{bmatrix}\n",
    " 0\\\\\n",
    " \\frac{1}{M}\\\\\n",
    " 0\\\\\n",
    " -\\frac{1}{Ml}&\n",
    " \\end{bmatrix}\n",
    " \\end{equation}\n",
    "Next, the system is discretized with sampling time $T_s = 0.50\\;\\text{ms}$. Here we just use Forward Euler integration for the sake of simplicity.\n"
   ]
  },
  {
   "cell_type": "code",
   "execution_count": 3,
   "metadata": {},
   "outputs": [],
   "source": [
    "# MPC system matrices #\n",
    "\n",
    "# Constants #\n",
    "M = 0.5\n",
    "m = 0.2\n",
    "b = 0.1\n",
    "ftheta = 0.1\n",
    "l = 0.3\n",
    "g = 9.81\n",
    "\n",
    "Ts = 50e-3\n",
    "\n",
    "# Continuous-time system matrices, linearized about the upright, unstable equilibrium point \n",
    "Ac =np.array([[0,       1,          0,                  0],\n",
    "              [0,       -b/M,       -(g*m)/M,           (ftheta*m)/M],\n",
    "              [0,       0,          0,                  1],\n",
    "              [0,       b/(M*l),    (M*g + g*m)/(M*l),  -(M*ftheta + ftheta*m)/(M*l)]])\n",
    "\n",
    "Bc = np.array([\n",
    "    [0.0],\n",
    "    [1.0/M],\n",
    "    [0.0],\n",
    "    [-1/(M*l)]\n",
    "])\n",
    "\n",
    "[nx, nu] = Bc.shape # number of states and number or inputs\n",
    "\n",
    "# Brutal forward euler discretization\n",
    "Ad = np.eye(nx) + Ac*Ts\n",
    "Bd = Bc*Ts"
   ]
  },
  {
   "cell_type": "code",
   "execution_count": 4,
   "metadata": {},
   "outputs": [],
   "source": [
    "# MPC reference input and states (set-points)\n",
    "\n",
    "xref = np.array([0.3, 0.0, 0.0, 0.0]) # reference state\n",
    "uref = np.array([0.0])    # reference input\n",
    "uminus1 = np.array([0.0])     # input at time step negative one - used to penalize the first delta u at time instant 0. Could be the same as uref.\n",
    "\n",
    "# Constraints\n",
    "xmin = np.array([-100.0, -100, -100, -100])\n",
    "xmax = np.array([100.0,   100.0, 100, 100])\n",
    "\n",
    "umin = np.array([-20])\n",
    "umax = np.array([20])\n",
    "\n",
    "Dumin = np.array([-5])\n",
    "Dumax = np.array([5])"
   ]
  },
  {
   "cell_type": "code",
   "execution_count": 5,
   "metadata": {},
   "outputs": [],
   "source": [
    "# MPC constraints\n",
    "xmin = np.array([-100.0, -100, -100, -100])\n",
    "xmax = np.array([100.0,   100.0, 100, 100])\n",
    "\n",
    "umin = np.array([-20])\n",
    "umax = np.array([20])\n",
    "\n",
    "Dumin = np.array([-5])\n",
    "Dumax = np.array([5])"
   ]
  },
  {
   "cell_type": "code",
   "execution_count": 6,
   "metadata": {},
   "outputs": [],
   "source": [
    "# MPC cosst function weights\n",
    "\n",
    "Qx = sparse.diags([0.3, 0, 1.0, 0])   # Quadratic cost for states x0, x1, ..., x_N-1\n",
    "QxN = sparse.diags([0.3, 0, 1.0, 0])  # Quadratic cost for xN\n",
    "Qu = 0.0 * sparse.eye(1)        # Quadratic cost for u0, u1, ...., u_N-1\n",
    "QDu = 0.01 * sparse.eye(1)       # Quadratic cost for Du0, Du1, ...., Du_N-1"
   ]
  },
  {
   "cell_type": "code",
   "execution_count": 7,
   "metadata": {},
   "outputs": [],
   "source": [
    "# Initial state\n",
    "phi0 = 15*2*np.pi/360\n",
    "x0 = np.array([0, 0, phi0, 0]) # initial state\n",
    "\n",
    "# Prediction horizon\n",
    "Np = 20"
   ]
  },
  {
   "cell_type": "code",
   "execution_count": 8,
   "metadata": {},
   "outputs": [],
   "source": [
    "# Initialize and setup MPC controller\n",
    "\n",
    "K = MPCController(Ad,Bd,Np=20, x0=x0,xref=xref,uminus1=uminus1,\n",
    "                  Qx=Qx, QxN=QxN, Qu=Qu,QDu=QDu,\n",
    "                  xmin=xmin,xmax=xmax,umin=umin,umax=umax,Dumin=Dumin,Dumax=Dumax)\n",
    "K.setup() # this initializes the QP problem for the first step"
   ]
  },
  {
   "cell_type": "code",
   "execution_count": 9,
   "metadata": {},
   "outputs": [],
   "source": [
    "# Simulate in closed loop. Use MPC model as real system\n",
    "\n",
    "# Simulate in closed loop\n",
    "[nx, nu] = Bd.shape # number of states and number or inputs\n",
    "len_sim = 10 # simulation length (s)\n",
    "nsim = int(len_sim/Ts) # simulation length(timesteps)\n",
    "xsim = np.zeros((nsim,nx))\n",
    "usim = np.zeros((nsim,nu))\n",
    "tsim = np.arange(0,nsim)*Ts\n",
    "\n",
    "time_start = time.time()\n",
    "\n",
    "xstep = x0\n",
    "\n",
    "for i in range(nsim):\n",
    "    uMPC = K.step()\n",
    "\n",
    "    # System simulation\n",
    "    F = uMPC\n",
    "    v = xstep[1]\n",
    "    theta = xstep[2]\n",
    "    omega = xstep[3]\n",
    "\n",
    "    der = np.zeros(nx)\n",
    "    der[0] = v\n",
    "    der[1] = (m*l*np.sin(theta)*omega**2 -m*g*np.sin(theta)*np.cos(theta)  + m*ftheta*np.cos(theta)*omega + F - b*v)/(M+m*(1-np.cos(theta)**2));\n",
    "    der[2] = omega\n",
    "    der[3] = ((M+m)*(g*np.sin(theta) - ftheta*omega) - m*l*omega**2*np.sin(theta)*np.cos(theta) -(F-b*v)*np.cos(theta))/(l*(M + m*(1-np.cos(theta)**2)) );\n",
    "    # Forward euler step\n",
    "    xstep = xstep + der*Ts\n",
    "    #xstep = Ad.dot(xstep) + Bd.dot(uMPC)  # system step\n",
    "\n",
    "    K.update(xstep) # update with measurement\n",
    "    xsim[i,:] = xstep\n",
    "    usim[i,:] = uMPC\n",
    "\n",
    "time_sim = time.time() - time_start\n"
   ]
  },
  {
   "cell_type": "code",
   "execution_count": 10,
   "metadata": {},
   "outputs": [
    {
     "data": {
      "image/png": "[encoded data removed]",
      "text/plain": [
       "<Figure size 720x720 with 3 Axes>"
      ]
     },
     "metadata": {
      "needs_background": "light"
     },
     "output_type": "display_data"
    }
   ],
   "source": [
    "# Plot results\n",
    "\n",
    "fig,axes = plt.subplots(3,1, figsize=(10,10))\n",
    "axes[0].plot(tsim, xsim[:,0], \"k\", label='p')\n",
    "axes[0].plot(tsim, xref[0]*np.ones(np.shape(tsim)), \"r--\", label=\"p_ref\")\n",
    "axes[0].set_title(\"Position (m)\")\n",
    "\n",
    "axes[1].plot(tsim, xsim[:,2]*360/2/np.pi, label=\"phi\")\n",
    "axes[1].plot(tsim, xref[2]*360/2/np.pi*np.ones(np.shape(tsim)), \"r--\", label=\"phi_ref\")\n",
    "axes[1].set_title(\"Angle (deg)\")\n",
    "\n",
    "axes[2].plot(tsim, usim[:,0], label=\"u\")\n",
    "axes[2].plot(tsim, uref*np.ones(np.shape(tsim)), \"r--\", label=\"u_ref\")\n",
    "axes[2].set_title(\"Force (N)\")\n",
    "\n",
    "for ax in axes:\n",
    "    ax.grid(True)\n",
    "    ax.legend()"
   ]
  }
 ],
 "metadata": {
  "kernelspec": {
   "display_name": "Python 3",
   "language": "python",
   "name": "python3"
  },
  "language_info": {
   "codemirror_mode": {
    "name": "ipython",
    "version": 3
   },
   "file_extension": ".py",
   "mimetype": "text/x-python",
   "name": "python",
   "nbconvert_exporter": "python",
   "pygments_lexer": "ipython3",
   "version": "3.6.8"
  },
  "pycharm": {
   "stem_cell": {
    "cell_type": "raw",
    "metadata": {
     "collapsed": false
    },
    "source": []
   }
  }
 },
 "nbformat": 4,
 "nbformat_minor": 2
}
